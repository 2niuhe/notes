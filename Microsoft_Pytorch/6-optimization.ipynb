{
  "cells": [
    {
      "cell_type": "markdown",
      "source": [
        "# Optimizing the model parameters\n",
        "\n",
        "Now that we have a model and data, it's time to train, validate, and test our model by optimizing its parameters on our data. Training a model is an iterative process; in each iteration (*epoch*), the model makes a guess about the output, calculates the error in its guess (*loss*), collects the derivatives of the error with respect to its parameters (as we saw in the previous module), and **optimizes** these parameters using gradient descent. \n",
        "\n",
        "## Prerequisite code \n",
        "\n",
        "We'll load the code from the previous modules on **Datasets & DataLoaders** and **Build Model**."
      ],
      "metadata": {}
    },
    {
      "cell_type": "code",
      "source": [
        "%matplotlib inline\n",
        "import torch\n",
        "from torch import nn\n",
        "from torch.utils.data import DataLoader\n",
        "from torchvision import datasets\n",
        "from torchvision.transforms import ToTensor, Lambda\n",
        "\n",
        "training_data = datasets.FashionMNIST(\n",
        "    root=\"data\",\n",
        "    train=True,\n",
        "    download=True,\n",
        "    transform=ToTensor()\n",
        ")\n",
        "\n",
        "test_data = datasets.FashionMNIST(\n",
        "    root=\"data\",\n",
        "    train=False,\n",
        "    download=True,\n",
        "    transform=ToTensor()\n",
        ")\n",
        "\n",
        "train_dataloader = DataLoader(training_data, batch_size=64)\n",
        "test_dataloader = DataLoader(test_data, batch_size=64)\n",
        "\n",
        "class NeuralNetwork(nn.Module):\n",
        "    def __init__(self):\n",
        "        super(NeuralNetwork, self).__init__()\n",
        "        self.flatten = nn.Flatten()\n",
        "        self.linear_relu_stack = nn.Sequential(\n",
        "            nn.Linear(28*28, 512),\n",
        "            nn.ReLU(),\n",
        "            nn.Linear(512, 512),\n",
        "            nn.ReLU(),\n",
        "            nn.Linear(512, 10),\n",
        "            nn.ReLU()\n",
        "        )\n",
        "\n",
        "    def forward(self, x):\n",
        "        x = self.flatten(x)\n",
        "        logits = self.linear_relu_stack(x)\n",
        "        return logits\n",
        "\n",
        "model = NeuralNetwork()"
      ],
      "outputs": [],
      "execution_count": 29,
      "metadata": {}
    },
    {
      "cell_type": "markdown",
      "source": [
        "## Setting hyperparameters \n",
        "\n",
        "Hyperparameters are adjustable parameters that let you control the model optimization process. \n",
        "Different hyperparameter values can impact model training and accuracy level.\n",
        "\n",
        "We define the following hyperparameters for training:\n",
        " - **Number of Epochs**: The number times the entire training dataset is passed through the network. \n",
        " - **Batch Size**: The number of data samples the model sees in each epoch. This iterates over the number of batches needed to complete an epoch.\n",
        " - **Learning Rate**: The size of steps that the model matches as it searches for the best weights that will produce a higher model accuracy. Smaller values mean the model takes longer to find the best weights. Larger values might result in the model stepping over and missing the best weights, which yields unpredictable behavior during training."
      ],
      "metadata": {}
    },
    {
      "cell_type": "code",
      "source": [
        "learning_rate = 1e-3\n",
        "batch_size = 64\n",
        "epochs = 5"
      ],
      "outputs": [],
      "execution_count": 30,
      "metadata": {}
    },
    {
      "cell_type": "markdown",
      "source": [
        "## Add an optimization loop\n",
        "\n",
        "Once we set our hyperparameters, we can train and optimize our model with an optimization loop. Each iteration of the optimization loop is called an **epoch**. \n",
        "\n",
        "Each epoch consists of two main parts:\n",
        " - **The Train Loop**: Iterates over the training dataset and tries to converge to optimal parameters.\n",
        " - **The Validation/Test Loop**: Iterates over the test dataset to check if model performance is improving.\n",
        "\n",
        "Let's examine some of the concepts used in the training loop. Jump ahead to see the full implementation of the optimization loop.\n",
        "\n",
        "### Add a loss function\n",
        "\n",
        "When presented with some training data, our untrained network isn't likely to give the correct answer. A **loss function** measures the degree of dissimilarity of an obtained result to the target value, and it's the loss function that we want to minimize during training. To calculate the loss, we make a prediction using the inputs of our given data sample and compare it against the true data label value.\n",
        "\n",
        "Common loss functions include:\n",
        "\n",
        "- `nn.MSELoss`: Mean Square Error, used for regression tasks.\n",
        "- `nn.NLLLoss`: Negative Log Likelihood, used for classification.\n",
        "- `nn.CrossEntropyLoss`: Combines `nn.LogSoftmax` and `nn.NLLLoss`.\n",
        "\n",
        "We pass our model's output logits to `nn.CrossEntropyLoss`, which normalizes the logits and computes the prediction error.\n"
      ],
      "metadata": {}
    },
    {
      "cell_type": "code",
      "source": [
        "# Initialize the loss function\n",
        "loss_fn = nn.CrossEntropyLoss()"
      ],
      "outputs": [],
      "execution_count": 31,
      "metadata": {}
    },
    {
      "cell_type": "markdown",
      "source": [
        "### Optimization pass\n",
        "\n",
        "Optimization is the process of adjusting model parameters to reduce model error in each training step. **Optimization algorithms** define how this process is performed (in this example we use *Stochastic Gradient Descent*).\n",
        "\n",
        "All optimization logic is encapsulated in  the `optimizer` object. Here, we use the SGD optimizer; there are many different optimizers available in PyTorch, such as `ADAM` and `RMSProp`, that are suited for different kinds of models and data.\n",
        "\n",
        "We initialize the optimizer by registering the model's parameters that need to be trained, and passing in the learning rate hyperparameter."
      ],
      "metadata": {}
    },
    {
      "cell_type": "code",
      "source": [
        "optimizer = torch.optim.SGD(model.parameters(), lr=learning_rate)"
      ],
      "outputs": [],
      "execution_count": 32,
      "metadata": {}
    },
    {
      "cell_type": "markdown",
      "source": [
        "Inside the training loop, optimization happens in three steps:\n",
        " * Call `optimizer.zero_grad()` to reset the gradients of model parameters. Gradients by default add up; to prevent double-counting, we explicitly zero them at each iteration.\n",
        " * Back-propagate the prediction loss with a call to `loss.backwards()`. PyTorch deposits the gradients of the loss with respect to each parameter. \n",
        " * Once we have our gradients, we call `optimizer.step()` to adjust the parameters by the gradients collected in the backward pass."
      ],
      "metadata": {}
    },
    {
      "cell_type": "markdown",
      "source": [
        "## Full implementation\n",
        "\n",
        "We define a `train_loop` function that loops over our optimization code, and a `test_loop` function that \n",
        "evaluates the model's performance against our test data."
      ],
      "metadata": {}
    },
    {
      "cell_type": "code",
      "source": [
        "def train_loop(dataloader, model, loss_fn, optimizer):\n",
        "    size = len(dataloader.dataset)\n",
        "    for batch, (X, y) in enumerate(dataloader):        \n",
        "        # Compute prediction and loss\n",
        "        pred = model(X)\n",
        "        loss = loss_fn(pred, y)\n",
        "        \n",
        "        # Backpropagation\n",
        "        optimizer.zero_grad()\n",
        "        loss.backward()\n",
        "        optimizer.step()\n",
        "\n",
        "        if batch % 100 == 0:\n",
        "            loss, current = loss.item(), batch * len(X)\n",
        "            print(f\"loss: {loss:>7f}  [{current:>5d}/{size:>5d}]\")\n",
        "\n",
        "\n",
        "def test_loop(dataloader, model, loss_fn):\n",
        "    size = len(dataloader.dataset)\n",
        "    test_loss, correct = 0, 0\n",
        "\n",
        "    with torch.no_grad():\n",
        "        for X, y in dataloader:\n",
        "            pred = model(X)\n",
        "            test_loss += loss_fn(pred, y).item()\n",
        "            correct += (pred.argmax(1) == y).type(torch.float).sum().item()\n",
        "            \n",
        "    test_loss /= size\n",
        "    correct /= size\n",
        "    print(f\"Test Error: \\n Accuracy: {(100*correct):>0.1f}%, Avg loss: {test_loss:>8f} \\n\")"
      ],
      "outputs": [],
      "execution_count": 33,
      "metadata": {}
    },
    {
      "cell_type": "markdown",
      "source": [
        "We initialize the loss function and optimizer, and pass it to `train_loop` and `test_loop`.\n",
        "Feel free to increase the number of epochs to track the model's improving performance."
      ],
      "metadata": {}
    },
    {
      "cell_type": "code",
      "source": [
        "loss_fn = nn.CrossEntropyLoss()\n",
        "optimizer = torch.optim.SGD(model.parameters(), lr=learning_rate)\n",
        "\n",
        "epochs = 10\n",
        "for t in range(epochs):\n",
        "    print(f\"Epoch {t+1}\\n-------------------------------\")\n",
        "    train_loop(train_dataloader, model, loss_fn, optimizer)\n",
        "    test_loop(test_dataloader, model, loss_fn)\n",
        "print(\"Done!\")"
      ],
      "outputs": [
        {
          "output_type": "stream",
          "name": "stdout",
          "text": "Epoch 1\n-------------------------------\nloss: 2.303401  [    0/60000]\nloss: 2.297377  [ 6400/60000]\nloss: 2.280482  [12800/60000]\nloss: 2.283669  [19200/60000]\nloss: 2.264597  [25600/60000]\nloss: 2.242953  [32000/60000]\nloss: 2.257413  [38400/60000]\nloss: 2.225890  [44800/60000]\nloss: 2.230139  [51200/60000]\nloss: 2.221658  [57600/60000]\nTest Error: \n Accuracy: 44.9%, Avg loss: 0.034755 \n\nEpoch 2\n-------------------------------\nloss: 2.207869  [    0/60000]\nloss: 2.216228  [ 6400/60000]\nloss: 2.171344  [12800/60000]\nloss: 2.205340  [19200/60000]\nloss: 2.151556  [25600/60000]\nloss: 2.109221  [32000/60000]\nloss: 2.159066  [38400/60000]\nloss: 2.078849  [44800/60000]\nloss: 2.100070  [51200/60000]\nloss: 2.091879  [57600/60000]\nTest Error: \n Accuracy: 45.5%, Avg loss: 0.032549 \n\nEpoch 3\n-------------------------------\nloss: 2.062945  [    0/60000]\nloss: 2.085036  [ 6400/60000]\nloss: 1.988528  [12800/60000]\nloss: 2.072161  [19200/60000]\nloss: 1.960539  [25600/60000]\nloss: 1.886215  [32000/60000]\nloss: 1.992306  [38400/60000]\nloss: 1.837786  [44800/60000]\nloss: 1.899663  [51200/60000]\nloss: 1.895588  [57600/60000]\nTest Error: \n Accuracy: 44.7%, Avg loss: 0.029274 \n\nEpoch 4\n-------------------------------\nloss: 1.845488  [    0/60000]\nloss: 1.896433  [ 6400/60000]\nloss: 1.742138  [12800/60000]\nloss: 1.901838  [19200/60000]\nloss: 1.747391  [25600/60000]\nloss: 1.637601  [32000/60000]\nloss: 1.819185  [38400/60000]\nloss: 1.598773  [44800/60000]\nloss: 1.709552  [51200/60000]\nloss: 1.728209  [57600/60000]\nTest Error: \n Accuracy: 46.4%, Avg loss: 0.026523 \n\nEpoch 5\n-------------------------------\nloss: 1.653965  [    0/60000]\nloss: 1.743632  [ 6400/60000]\nloss: 1.554116  [12800/60000]\nloss: 1.781247  [19200/60000]\nloss: 1.600464  [25600/60000]\nloss: 1.477130  [32000/60000]\nloss: 1.702158  [38400/60000]\nloss: 1.446716  [44800/60000]\nloss: 1.562431  [51200/60000]\nloss: 1.623475  [57600/60000]\nTest Error: \n Accuracy: 48.2%, Avg loss: 0.024592 \n\nEpoch 6\n-------------------------------\nloss: 1.505402  [    0/60000]\nloss: 1.627140  [ 6400/60000]\nloss: 1.412499  [12800/60000]\nloss: 1.692108  [19200/60000]\nloss: 1.469909  [25600/60000]\nloss: 1.367885  [32000/60000]\nloss: 1.614505  [38400/60000]\nloss: 1.342665  [44800/60000]\nloss: 1.448475  [51200/60000]\nloss: 1.552622  [57600/60000]\nTest Error: \n Accuracy: 51.9%, Avg loss: 0.023164 \n\nEpoch 7\n-------------------------------\nloss: 1.392293  [    0/60000]\nloss: 1.539098  [ 6400/60000]\nloss: 1.308096  [12800/60000]\nloss: 1.621707  [19200/60000]\nloss: 1.382855  [25600/60000]\nloss: 1.292186  [32000/60000]\nloss: 1.554994  [38400/60000]\nloss: 1.270856  [44800/60000]\nloss: 1.371118  [51200/60000]\nloss: 1.501298  [57600/60000]\nTest Error: \n Accuracy: 53.3%, Avg loss: 0.022129 \n\nEpoch 8\n-------------------------------\nloss: 1.312566  [    0/60000]\nloss: 1.473508  [ 6400/60000]\nloss: 1.229990  [12800/60000]\nloss: 1.563513  [19200/60000]\nloss: 1.324732  [25600/60000]\nloss: 1.235818  [32000/60000]\nloss: 1.512937  [38400/60000]\nloss: 1.219521  [44800/60000]\nloss: 1.318096  [51200/60000]\nloss: 1.460902  [57600/60000]\nTest Error: \n Accuracy: 53.9%, Avg loss: 0.021350 \n\nEpoch 9\n-------------------------------\nloss: 1.253981  [    0/60000]\nloss: 1.422903  [ 6400/60000]\nloss: 1.170563  [12800/60000]\nloss: 1.516507  [19200/60000]\nloss: 1.285515  [25600/60000]\nloss: 1.191920  [32000/60000]\nloss: 1.481229  [38400/60000]\nloss: 1.182091  [44800/60000]\nloss: 1.279932  [51200/60000]\nloss: 1.428161  [57600/60000]\nTest Error: \n Accuracy: 54.4%, Avg loss: 0.020746 \n\nEpoch 10\n-------------------------------\nloss: 1.208451  [    0/60000]\nloss: 1.382320  [ 6400/60000]\nloss: 1.123761  [12800/60000]\nloss: 1.479272  [19200/60000]\nloss: 1.257725  [25600/60000]\nloss: 1.157990  [32000/60000]\nloss: 1.455944  [38400/60000]\nloss: 1.153538  [44800/60000]\nloss: 1.251161  [51200/60000]\nloss: 1.401269  [57600/60000]\nTest Error: \n Accuracy: 55.0%, Avg loss: 0.020265 \n\nDone!\n"
        }
      ],
      "execution_count": 34,
      "metadata": {}
    },
    {
      "cell_type": "markdown",
      "source": [
        "You might have noticed that the model is initially not very good (that's OK). Try running the loop for more `epochs` or adjusting the `learning_rate` to a bigger number. It might also be the case that the model configuration we chose might not be the optimal one for this kind of problem (it isn't). Later courses will delve more into the model shapes that work for vision problems.\n"
      ],
      "metadata": {}
    },
    {
      "cell_type": "markdown",
      "source": [
        "## Saving Models\n",
        "\n",
        "When you're satisfied with the model's performance, you can use `torch.save` to save it. PyTorch models store the learned parameters in an internal state dictionary called `state_dict`. You can persist these with the `torch.save` method:"
      ],
      "metadata": {}
    },
    {
      "cell_type": "code",
      "source": [
        "torch.save(model.state_dict(), \"data/model.pth\")\n",
        "\n",
        "print(\"Saved PyTorch Model State to model.pth\")"
      ],
      "outputs": [
        {
          "output_type": "stream",
          "name": "stdout",
          "text": "Saved PyTorch Model State to model.pth\n"
        }
      ],
      "execution_count": 35,
      "metadata": {}
    }
  ],
  "metadata": {
    "kernelspec": {
      "name": "conda-env-py38_default-py",
      "language": "python",
      "display_name": "py38_default"
    },
    "language_info": {
      "name": "python",
      "version": "3.8.13",
      "mimetype": "text/x-python",
      "codemirror_mode": {
        "name": "ipython",
        "version": 3
      },
      "pygments_lexer": "ipython3",
      "nbconvert_exporter": "python",
      "file_extension": ".py"
    },
    "kernel_info": {
      "name": "conda-env-py38_default-py"
    },
    "nteract": {
      "version": "nteract-front-end@1.0.0"
    }
  },
  "nbformat": 4,
  "nbformat_minor": 1
}