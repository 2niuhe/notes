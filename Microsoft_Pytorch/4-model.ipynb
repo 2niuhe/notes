{
  "cells": [
    {
      "attachments": {},
      "cell_type": "markdown",
      "source": [
        "\n",
        "# What is a neural network?\n",
        "\n",
        "A neural network is a collection of **neurons** that are connected by layers. Each neuron is a small\n",
        "computing unit that performs simple calculations to collectively solve a problem. Neurons are organized in three types of layers: input layer, hidden layer, and output layer. The hidden and output layers contain a number of neurons. Neural networks mimic the way a human brain processes information.\n",
        "\n",
        "![Diagram showing the different types of layers in a neural network.](../images/4-model-1.png)"
      ],
      "metadata": {}
    },
    {
      "cell_type": "markdown",
      "source": [
        "\n",
        "## Components of a neural network\n",
        "\n",
        "- An **activation function** determines whether a neuron should be activated or not. The computations that happen in a neural network include applying an activation function. If a neuron activates, then it means the input is important. There are different kinds of activation functions. The choice of which activation function to use depends on what you want the output to be. Another important role of an activation function is to add non-linearity to the model.\n",
        "\n",
        "    - _Binary_ is used to set an output node to 1 if the function result is positive and 0 if the function result is zero or negative. $f(x)= {\\small \\begin{cases} 0, & \\text{if } x < 0\\\\ 1, & \\text{if } x\\geq 0\\\\ \\end{cases}}$\n",
        "    - _Sigmoid_ is used to predict the probability of an output node being between 0 and 1.  $f(x) = {\\large \\frac{1}{1+e^{-x}}} $\n",
        "    - _Tanh_ is used to predict whether an output node is between 1 and -1, for classification use cases.  $f(x) = {\\large \\frac{e^{x} - e^{-x}}{e^{x} + e^{-x}}} $\n",
        "    - _ReLU_ (*rectified linear activation function*) is used to set the output node to 0 if the function result is negative and keeps the result value if the result is a positive value.  $f(x)= {\\small \\begin{cases} 0, & \\text{if } x < 0\\\\ x, & \\text{if } x\\geq 0\\\\ \\end{cases}}$\n",
        "- **Weights** influence how close our network's output is to the expected output value. As an input enters the neuron, it gets multiplied by a weight value, and the resulting output is either observed or passed to the next layer in the neural network. Weights for all neurons in a layer are organized into one tensor.\n",
        "- **Bias** makes up the difference between the activation function's output and its intended output. A low bias suggests that the network is making more assumptions about the output's form, whereas a high bias value makes fewer assumptions about the output's form. \n",
        "\n",
        "![Diagram showing neural computation.](../images/4-model-2.png)\n",
        "\n",
        "We can say that an output $y$ of a neural network layer with weights $W$ and bias $b$ is computed as summation of the inputs multiplied by the weights plus the bias. $x = \\sum{(weights * inputs) + bias} $, where $f(x)$ is the activation function.\n"
      ],
      "metadata": {}
    },
    {
      "cell_type": "markdown",
      "source": [
        "# Build a neural network\n",
        "\n",
        "Neural networks are comprised of layers and modules that perform operations on data. The `torch.nn` namespace provides all the building blocks you need to build your own neural network. Every module in PyTorch subclasses `nn.Module`. A neural network is itself a module that consists of other modules (layers). This nested structure allows for building and managing complex architectures easily.\n",
        "\n",
        "In the following sections, we'll build a neural network to classify images in the FashionMNIST dataset."
      ],
      "metadata": {}
    },
    {
      "cell_type": "code",
      "source": [
        "%matplotlib inline\n",
        "import os\n",
        "import torch\n",
        "from torch import nn\n",
        "from torch.utils.data import DataLoader\n",
        "from torchvision import datasets, transforms"
      ],
      "outputs": [],
      "execution_count": 14,
      "metadata": {}
    },
    {
      "cell_type": "markdown",
      "source": [
        "## Get a hardware device for training\n",
        "\n",
        "We want to be able to train our model on a hardware accelerator like a GPU, if one is available. Let's check to see whether \n",
        "`torch.cuda` is available; if not, we'll continue to use the CPU."
      ],
      "metadata": {}
    },
    {
      "cell_type": "code",
      "source": [
        "device = 'cuda' if torch.cuda.is_available() else 'cpu'\n",
        "print('Using {} device'.format(device))"
      ],
      "outputs": [
        {
          "output_type": "stream",
          "name": "stdout",
          "text": "Using cpu device\n"
        }
      ],
      "execution_count": 15,
      "metadata": {}
    },
    {
      "cell_type": "markdown",
      "source": [
        "## Define the class\n",
        "\n",
        "We define our neural network by subclassing `nn.Module`, and initialize the neural network layers in `__init__`. Every `nn.Module` subclass implements the operations on input data in the `forward` method.\n",
        "\n",
        "Our neural network is composed of the following:\n",
        "\n",
        "- The input layer with 28x28 or 784 features/pixels.\n",
        "- The first linear module takes the input 784 features and transforms it to a hidden layer with 512 features.\n",
        "- The ReLU activation function will be applied in the transformation.\n",
        "- The second linear module takes 512 features as input from the first hidden layer and transforms it to the next hidden layer with 512 features.\n",
        "- The ReLU activation function will be applied in the transformation.\n",
        "- The third linear module take 512 features as input from the second hidden layer and transforms those features to the output layer with 10, which is the number of classes.\n",
        "- The ReLU activation function will be applied in the transformation."
      ],
      "metadata": {}
    },
    {
      "cell_type": "code",
      "source": [
        "class NeuralNetwork(nn.Module):\n",
        "    def __init__(self):\n",
        "        super(NeuralNetwork, self).__init__()\n",
        "        self.flatten = nn.Flatten()\n",
        "        self.linear_relu_stack = nn.Sequential(\n",
        "            nn.Linear(28*28, 512),\n",
        "            nn.ReLU(),\n",
        "            nn.Linear(512, 512),\n",
        "            nn.ReLU(),\n",
        "            nn.Linear(512, 10),\n",
        "            nn.ReLU()\n",
        "        )\n",
        "\n",
        "    def forward(self, x):\n",
        "        x = self.flatten(x)\n",
        "        logits = self.linear_relu_stack(x)\n",
        "        return logits"
      ],
      "outputs": [],
      "execution_count": 16,
      "metadata": {}
    },
    {
      "cell_type": "markdown",
      "source": [
        "We create an instance of `NeuralNetwork`, move it to the `device`, and print its structure."
      ],
      "metadata": {}
    },
    {
      "cell_type": "code",
      "source": [
        "model = NeuralNetwork().to(device)\n",
        "print(model)"
      ],
      "outputs": [
        {
          "output_type": "stream",
          "name": "stdout",
          "text": "NeuralNetwork(\n  (flatten): Flatten(start_dim=1, end_dim=-1)\n  (linear_relu_stack): Sequential(\n    (0): Linear(in_features=784, out_features=512, bias=True)\n    (1): ReLU()\n    (2): Linear(in_features=512, out_features=512, bias=True)\n    (3): ReLU()\n    (4): Linear(in_features=512, out_features=10, bias=True)\n    (5): ReLU()\n  )\n)\n"
        }
      ],
      "execution_count": 17,
      "metadata": {}
    },
    {
      "cell_type": "markdown",
      "source": [
        "To use the model, we pass it the input data. This executes the model's `forward`, along with some background operations. However, don't call `model.forward()` directly! Calling the model on the input returns a 10-dimensional tensor with raw predicted values for each class.\n",
        "\n",
        "We get the prediction densities by passing it through an instance of the `nn.Softmax`."
      ],
      "metadata": {}
    },
    {
      "cell_type": "code",
      "source": [
        "X = torch.rand(1, 28, 28, device=device)\n",
        "logits = model(X) \n",
        "pred_probab = nn.Softmax(dim=1)(logits)\n",
        "y_pred = pred_probab.argmax(1)\n",
        "print(f\"Predicted class: {y_pred}\")"
      ],
      "outputs": [
        {
          "output_type": "stream",
          "name": "stdout",
          "text": "Predicted class: tensor([4])\n"
        }
      ],
      "execution_count": 18,
      "metadata": {}
    },
    {
      "cell_type": "markdown",
      "source": [
        "## Weight and Bias\n",
        "\n",
        "\n",
        "The `nn.Linear` module randomly initializes the ${weights}$  and ${ bias}$ for each layer and internally stores the values in Tensors."
      ],
      "metadata": {}
    },
    {
      "cell_type": "code",
      "source": [
        "print(f\"First Linear weights: {model.linear_relu_stack[0].weight} \\n\")\n",
        "\n",
        "print(f\"First Linear biases: {model.linear_relu_stack[0].bias} \\n\")"
      ],
      "outputs": [
        {
          "output_type": "stream",
          "name": "stdout",
          "text": "First Linear weights: Parameter containing:\ntensor([[-0.0312, -0.0038,  0.0202,  ...,  0.0180,  0.0017,  0.0028],\n        [ 0.0056, -0.0144, -0.0152,  ...,  0.0136, -0.0332, -0.0143],\n        [ 0.0175, -0.0187,  0.0323,  ..., -0.0188,  0.0162,  0.0106],\n        ...,\n        [-0.0234,  0.0225,  0.0306,  ..., -0.0182,  0.0099,  0.0348],\n        [-0.0249,  0.0259,  0.0150,  ..., -0.0179, -0.0284, -0.0284],\n        [ 0.0287,  0.0155, -0.0023,  ...,  0.0058,  0.0344, -0.0125]],\n       requires_grad=True) \n\nFirst Linear biases: Parameter containing:\ntensor([ 2.7258e-02, -8.0004e-03,  2.7626e-02,  2.1964e-02,  4.4959e-03,\n        -1.6973e-02, -3.1862e-02, -3.3186e-02,  2.6841e-03, -2.4953e-02,\n        -8.7154e-03,  1.5384e-02, -2.7446e-02, -3.1534e-02,  2.7948e-02,\n        -1.1457e-02, -1.1938e-02, -2.1420e-02, -5.0158e-03, -1.3121e-03,\n         1.1885e-02,  1.1733e-02, -2.6689e-02,  1.8255e-02,  4.7913e-03,\n        -1.7925e-04, -8.7950e-03,  2.0485e-02, -2.7262e-02, -1.7092e-02,\n         2.3579e-02, -3.7323e-03,  1.0167e-02,  4.4647e-03, -2.6411e-02,\n        -1.7033e-02, -1.0227e-02, -1.8639e-02,  2.2459e-02, -1.0458e-02,\n        -8.6555e-03, -1.5201e-03, -2.4206e-02, -2.7097e-02, -3.2115e-02,\n         1.2301e-02, -1.7748e-02, -1.1794e-02, -3.0865e-03, -1.9623e-02,\n         3.5466e-02, -3.5044e-02,  3.3669e-02, -2.0801e-02, -1.1974e-02,\n         1.0580e-02,  2.7880e-02,  2.0286e-02, -3.1348e-02, -1.3536e-02,\n        -3.0545e-02, -6.8223e-03,  1.8967e-02, -2.3701e-02,  1.2067e-02,\n         3.5332e-02, -1.2992e-02, -6.6679e-03, -8.3305e-03, -2.6874e-02,\n         5.9507e-03,  1.6420e-02, -4.8901e-05, -2.1516e-02, -6.7798e-03,\n        -1.0954e-02, -2.9642e-02, -2.5984e-02, -8.6293e-03,  2.0233e-02,\n         1.6795e-02,  1.0847e-02,  2.2765e-02,  2.4687e-03,  1.8550e-02,\n        -2.3543e-03,  8.3290e-03,  8.5981e-03,  2.4096e-02,  3.2127e-02,\n        -7.8634e-03, -2.4711e-02,  1.1062e-02, -3.2373e-03, -1.0815e-02,\n         1.4081e-02, -2.3227e-02,  1.8634e-02,  3.3262e-02,  4.8349e-03,\n        -1.7461e-02,  2.4727e-02,  1.4583e-02,  2.3283e-02, -3.4639e-02,\n         1.2735e-02,  3.5269e-02,  1.1686e-02, -1.4972e-02, -2.0090e-03,\n         2.7152e-02, -2.5073e-02, -1.9395e-02,  1.3468e-02,  4.3539e-03,\n        -1.2697e-02,  6.5530e-03, -1.0943e-02,  8.0103e-03, -2.4317e-02,\n         9.5946e-03,  9.3370e-03, -2.1358e-02, -6.4286e-03, -2.2632e-02,\n        -2.6644e-02,  6.9352e-03,  2.9245e-04,  2.7947e-02, -2.9521e-02,\n         2.0678e-02, -3.4116e-02, -2.8938e-03,  2.7497e-02, -1.4847e-02,\n         6.4067e-04,  2.5517e-02,  2.9588e-02,  1.3586e-02, -2.2435e-02,\n        -6.5270e-03,  2.5234e-02,  1.2760e-02, -4.3140e-03, -2.7851e-03,\n         2.5443e-02, -2.2439e-02,  2.7986e-02, -9.6698e-03,  5.4239e-03,\n        -1.9024e-02, -2.1883e-02, -8.5932e-03, -9.4959e-03,  3.0757e-02,\n         6.3028e-03,  1.1642e-02,  1.5766e-02, -1.7308e-02,  3.3359e-02,\n         3.0256e-02,  1.8000e-02, -2.0568e-02,  2.0761e-02,  2.6063e-02,\n        -1.7644e-02, -1.5867e-02,  1.5132e-02,  1.8976e-02,  1.5404e-03,\n        -1.8818e-02,  1.9326e-02,  7.2826e-04, -2.0426e-02, -3.3933e-02,\n         1.8992e-02, -2.4712e-02,  2.4277e-04, -7.3972e-03, -1.3559e-02,\n        -1.3879e-02, -2.0135e-03, -1.5032e-02,  3.4780e-02,  1.0159e-02,\n        -1.9269e-02,  1.9241e-02,  2.2942e-02,  2.9925e-02, -3.3893e-02,\n        -1.4640e-02,  3.6237e-03,  2.9741e-02, -2.1155e-03, -2.4783e-02,\n        -1.5398e-02, -2.3169e-03,  3.5157e-02, -2.6395e-03, -2.8781e-02,\n        -3.1738e-02, -3.9349e-03,  2.5153e-02,  2.7080e-02,  1.6064e-02,\n        -2.7189e-02,  2.4860e-02,  1.7322e-02,  3.7252e-03,  2.6358e-03,\n        -1.0710e-02,  6.3291e-03,  3.2571e-02, -3.0201e-02,  1.6892e-02,\n         1.7787e-02, -2.8192e-03,  2.9005e-02,  7.5151e-03, -3.4018e-02,\n        -2.6884e-03,  2.0187e-02,  2.5427e-02,  2.3083e-02, -1.7261e-02,\n        -1.6870e-03, -1.3665e-02,  1.0157e-02,  1.4219e-02,  3.4466e-02,\n        -2.5252e-02,  1.3959e-02,  2.3096e-02,  4.0452e-03, -2.3580e-02,\n         2.6773e-02,  3.0997e-02, -3.0559e-02,  1.0260e-02,  3.7335e-03,\n         2.4875e-02, -2.9129e-02,  1.0068e-02,  9.0727e-03, -2.0353e-02,\n         2.7116e-02,  2.2716e-02, -1.1493e-02,  1.5476e-02,  3.5194e-02,\n        -1.2594e-02,  1.5228e-02, -1.8403e-02, -2.2593e-02, -8.6985e-03,\n         5.7167e-03, -3.7967e-03,  6.4535e-03, -3.1413e-03,  2.1086e-02,\n        -2.6972e-02, -2.0073e-02,  2.3458e-03, -5.5779e-04,  1.4838e-02,\n         4.3338e-03, -1.3873e-02,  2.8570e-03,  1.4822e-02,  5.0383e-03,\n         2.2981e-02,  1.3782e-02,  1.9162e-02, -2.1331e-02, -2.5055e-02,\n         3.3417e-02, -2.7634e-02, -2.7244e-02, -2.8952e-02,  1.3611e-02,\n         3.9088e-03,  9.6589e-03, -2.2181e-02,  1.3270e-02,  1.0986e-02,\n        -1.1954e-02, -1.7940e-02,  1.1838e-02, -1.5006e-02, -3.4789e-02,\n         7.2434e-03,  3.2180e-02,  1.2594e-02,  5.1771e-03, -3.4085e-02,\n         3.2283e-02,  2.8377e-02, -1.6834e-02, -5.9743e-03,  6.6147e-03,\n        -2.8972e-03, -1.2694e-03, -6.6289e-03, -1.4024e-02, -5.0337e-03,\n        -1.2369e-02,  3.2427e-02, -1.4908e-02, -2.7230e-02,  3.4285e-02,\n         1.1586e-02, -1.9810e-02,  6.6524e-03,  1.7290e-02,  1.0941e-02,\n         7.4728e-03,  3.4291e-02,  2.6807e-02, -5.6041e-03, -2.0053e-02,\n         4.6441e-03,  3.3174e-02, -1.9612e-02, -1.7469e-02,  3.4031e-02,\n         2.3515e-02,  2.1335e-02, -2.8792e-02,  1.4822e-02, -2.6585e-02,\n         2.9880e-02,  8.3470e-03, -5.9247e-03, -1.4948e-02,  2.5371e-02,\n         6.3938e-03,  2.0710e-02,  3.2247e-02,  6.6442e-03, -2.5362e-02,\n        -1.3086e-02,  2.6507e-02, -9.4412e-03, -2.3285e-02,  2.0052e-02,\n        -6.4232e-03,  8.3841e-03,  2.1905e-02, -3.4783e-02, -3.1422e-02,\n        -9.4976e-03,  2.2771e-02,  1.8290e-02, -1.3409e-02,  1.8141e-02,\n         1.1630e-02, -3.0905e-03, -1.0226e-02, -5.6111e-03, -5.0779e-03,\n         1.3961e-02, -2.3759e-02,  3.2261e-02, -2.5866e-02,  2.9647e-02,\n         7.1813e-03,  2.6063e-02, -2.9130e-02, -1.5957e-02, -3.0166e-02,\n        -2.8388e-02,  5.8924e-03,  6.8896e-03, -1.0260e-03,  2.0998e-02,\n         2.3712e-02,  4.4409e-03, -4.4901e-04, -3.2970e-02, -1.1429e-02,\n         1.7538e-02, -2.5438e-02,  1.9201e-02,  1.8987e-02, -1.0125e-02,\n         2.7936e-02,  2.6170e-02,  3.3287e-02, -3.0225e-02, -1.9095e-02,\n        -2.7860e-02,  1.5588e-02,  2.2198e-02, -8.0496e-03,  3.5199e-02,\n         2.1893e-02,  1.3278e-03, -2.4163e-02, -2.2826e-04, -2.3729e-02,\n         8.6740e-03, -9.4494e-03,  2.7055e-02, -3.9255e-03,  1.2371e-02,\n         5.1095e-03, -9.9395e-03, -2.0549e-02, -4.2552e-03,  2.9568e-02,\n         2.5972e-03, -2.7104e-03,  7.9754e-03,  1.0369e-02, -2.6759e-02,\n        -6.9203e-03, -2.3202e-02, -1.0318e-02,  3.3642e-02, -3.4785e-02,\n        -1.4333e-02, -2.1993e-02, -2.4780e-02,  5.1325e-03, -1.0731e-04,\n        -3.4990e-03,  1.3772e-02,  4.4196e-03,  3.3049e-03,  1.0896e-02,\n         2.8818e-02, -9.6342e-04, -2.3716e-02, -2.7211e-02,  8.8752e-03,\n        -1.2243e-03, -8.6989e-04,  2.8363e-02, -6.6804e-03,  5.2799e-03,\n         2.1586e-02,  1.6912e-02,  2.4983e-02, -5.5302e-03,  9.9334e-03,\n         2.4631e-02, -1.2202e-02,  1.1655e-02, -7.4181e-03,  2.6023e-03,\n        -2.2582e-02,  3.5044e-02,  3.1938e-02, -3.3550e-02,  3.3889e-02,\n         1.1984e-02,  7.7869e-03, -2.7732e-02,  8.5858e-03,  1.3254e-02,\n         4.0957e-03, -1.5000e-02,  2.3567e-02,  1.8433e-02,  1.9502e-03,\n         2.4136e-02, -2.1687e-02,  2.2099e-02, -2.7802e-02,  2.5414e-02,\n        -1.1440e-02,  2.4626e-02, -1.2214e-02, -1.8925e-02, -1.7754e-02,\n         6.1661e-03, -2.2355e-02,  2.2458e-02, -2.3483e-03, -2.0095e-02,\n        -1.2712e-02, -2.6933e-03,  2.0327e-02,  2.7621e-02,  2.6782e-02,\n         1.7428e-02, -1.6904e-02, -2.8916e-02,  1.0687e-02, -2.6751e-02,\n         9.5413e-03,  2.6305e-02,  8.5138e-03,  1.1990e-02,  2.9284e-02,\n         1.4652e-02,  1.3931e-03, -1.9183e-02,  1.6937e-02,  1.2364e-02,\n        -2.6453e-03,  1.5011e-03, -2.3474e-02,  2.4763e-03,  3.0631e-03,\n         3.5393e-02,  2.5151e-02,  2.9645e-02, -1.2462e-02,  1.4152e-02,\n         2.1182e-02, -1.4132e-02], requires_grad=True) \n\n"
        }
      ],
      "execution_count": 19,
      "metadata": {}
    },
    {
      "cell_type": "markdown",
      "source": [
        "## Model layers\n",
        "\n",
        "Let's break down the layers in the FashionMNIST model. To illustrate it, we take a sample minibatch of three images of size **28x28** and see what happens to it as we pass it through the network. "
      ],
      "metadata": {}
    },
    {
      "cell_type": "code",
      "source": [
        "input_image = torch.rand(3,28,28)\n",
        "print(input_image.size())"
      ],
      "outputs": [
        {
          "output_type": "stream",
          "name": "stdout",
          "text": "torch.Size([3, 28, 28])\n"
        }
      ],
      "execution_count": 20,
      "metadata": {}
    },
    {
      "cell_type": "markdown",
      "source": [
        "### nn.Flatten\n",
        "\n",
        "We initialize the `nn.Flatten` layer to convert each two-dimensional 28x28 image into a contiguous array of 784 pixel values; that is, the minibatch dimension (at dim=0) is maintained. Each of the pixels are passed to the neural network's input layer.  \n",
        "\n",
        "![Diagram showing how pixels in an image are flattened.](../images/4-model-3.png)"
      ],
      "metadata": {}
    },
    {
      "cell_type": "code",
      "source": [
        "flatten = nn.Flatten()\n",
        "flat_image = flatten(input_image)\n",
        "print(flat_image.size())"
      ],
      "outputs": [
        {
          "output_type": "stream",
          "name": "stdout",
          "text": "torch.Size([3, 784])\n"
        }
      ],
      "execution_count": 21,
      "metadata": {}
    },
    {
      "cell_type": "markdown",
      "source": [
        "### nn.Linear \n",
        "\n",
        "The linear layer is a module that applies a linear transformation on the input using its stored weights and biases. The grayscale value of each pixel in the input layer is connected to neurons in the hidden layer for calculation. The calculation the transformation uses is ${{weight * input + bias}} $.\n"
      ],
      "metadata": {}
    },
    {
      "cell_type": "code",
      "source": [
        "layer1 = nn.Linear(in_features=28*28, out_features=20)\n",
        "hidden1 = layer1(flat_image)\n",
        "print(hidden1.size())"
      ],
      "outputs": [
        {
          "output_type": "stream",
          "name": "stdout",
          "text": "torch.Size([3, 20])\n"
        }
      ],
      "execution_count": 22,
      "metadata": {}
    },
    {
      "cell_type": "markdown",
      "source": [
        "### nn.ReLU\n",
        "\n",
        "Nonlinear activations are what create the complex mappings between the model's inputs and outputs. They're applied after linear transformations to introduce *nonlinearity*, helping neural networks learn a wide variety of phenomena. In this model, we use `nn.ReLU` between our linear layers, but there's other activations to introduce nonlinearity in your model.\n",
        "\n",
        "The ReLU activation function takes the output from the linear layer calculation and replaces the negative values with zeros.\n",
        "\n",
        "Linear output: ${ x = {weight * input + bias}} $.  \n",
        "ReLU:  $f(x)= \n",
        "\\begin{cases}\n",
        "    0, & \\text{if } x < 0\\\\\n",
        "    x, & \\text{if } x\\geq 0\\\\\n",
        "\\end{cases}\n",
        "$"
      ],
      "metadata": {}
    },
    {
      "cell_type": "code",
      "source": [
        "print(f\"Before ReLU: {hidden1}\\n\\n\")\n",
        "hidden1 = nn.ReLU()(hidden1)\n",
        "print(f\"After ReLU: {hidden1}\")"
      ],
      "outputs": [
        {
          "output_type": "stream",
          "name": "stdout",
          "text": "Before ReLU: tensor([[ 0.3741, -0.0748,  0.1123, -0.2522,  0.3893,  0.1552, -0.0401,  0.2228,\n          0.3250,  0.4199, -0.0522,  0.4573,  0.4327, -0.7967,  0.0336,  0.2588,\n          0.5921, -0.3618,  0.2669,  0.4841],\n        [ 0.0205, -0.4341, -0.1817, -0.6690,  0.6846,  0.2329, -0.2395,  0.1810,\n          0.0898,  0.2032, -0.0069,  0.6222,  0.4223, -0.9044, -0.1780, -0.0751,\n          0.5968, -0.1573, -0.2048,  0.0226],\n        [ 0.3153,  0.2154,  0.0551, -0.4598,  0.2289,  0.3959, -0.1911,  0.4055,\n          0.1663,  0.2888, -0.1680,  0.1777,  0.4802, -0.9233, -0.2419,  0.2751,\n          0.4596, -0.4224, -0.0535,  0.0303]], grad_fn=<AddmmBackward0>)\n\n\nAfter ReLU: tensor([[0.3741, 0.0000, 0.1123, 0.0000, 0.3893, 0.1552, 0.0000, 0.2228, 0.3250,\n         0.4199, 0.0000, 0.4573, 0.4327, 0.0000, 0.0336, 0.2588, 0.5921, 0.0000,\n         0.2669, 0.4841],\n        [0.0205, 0.0000, 0.0000, 0.0000, 0.6846, 0.2329, 0.0000, 0.1810, 0.0898,\n         0.2032, 0.0000, 0.6222, 0.4223, 0.0000, 0.0000, 0.0000, 0.5968, 0.0000,\n         0.0000, 0.0226],\n        [0.3153, 0.2154, 0.0551, 0.0000, 0.2289, 0.3959, 0.0000, 0.4055, 0.1663,\n         0.2888, 0.0000, 0.1777, 0.4802, 0.0000, 0.0000, 0.2751, 0.4596, 0.0000,\n         0.0000, 0.0303]], grad_fn=<ReluBackward0>)\n"
        }
      ],
      "execution_count": 23,
      "metadata": {
        "scrolled": true
      }
    },
    {
      "cell_type": "markdown",
      "source": [
        "### nn.Sequential\n",
        "\n",
        "`nn.Sequential` is an ordered \n",
        "container of modules. The data is passed through all the modules in their defined order. You can use\n",
        "sequential containers to put together a quick network like `seq_modules`."
      ],
      "metadata": {}
    },
    {
      "cell_type": "code",
      "source": [
        "seq_modules = nn.Sequential(\n",
        "    flatten,\n",
        "    layer1,\n",
        "    nn.ReLU(),\n",
        "    nn.Linear(20, 10)\n",
        ")\n",
        "input_image = torch.rand(3,28,28)\n",
        "logits = seq_modules(input_image)"
      ],
      "outputs": [],
      "execution_count": 24,
      "metadata": {}
    },
    {
      "cell_type": "markdown",
      "source": [
        "### nn.Softmax\n",
        "\n",
        "The last linear layer of the neural network returns `logits` (the raw values in \\[`-infty`, `infty`]), which are passed to the `nn.Softmax` module. The Softmax activation function calculates the probability of the output from the neural network. It's only used on a neural network's output layer. The results are scaled to values \\[0, 1\\], representing the model's predicted densities for each class. The `dim` parameter indicates the dimension along which the result values must sum to 1. The node with the highest probability predicts the desired output.\n",
        "\n",
        "![Diagram showing the softmax formula.](../images/4-model-4.png)"
      ],
      "metadata": {}
    },
    {
      "cell_type": "code",
      "source": [
        "softmax = nn.Softmax(dim=1)\n",
        "pred_probab = softmax(logits)"
      ],
      "outputs": [],
      "execution_count": 25,
      "metadata": {}
    },
    {
      "cell_type": "markdown",
      "source": [
        "## Model parameters\n",
        "\n",
        "Many layers inside a neural network are *parameterized*; that is, the layers have associated weights \n",
        "and biases that are optimized during training. Subclassing `nn.Module` automatically tracks all fields defined inside your model object, and makes all parameters accessible using your model's `parameters()` or `named_parameters()` methods.\n",
        "\n",
        "In this example, we iterate over each parameter and print its size and a preview of its values."
      ],
      "metadata": {}
    },
    {
      "cell_type": "code",
      "source": [
        "print(\"Model structure: \", model, \"\\n\\n\")\n",
        "\n",
        "for name, param in model.named_parameters():\n",
        "    print(f\"Layer: {name} | Size: {param.size()} | Values : {param[:2]} \\n\")"
      ],
      "outputs": [
        {
          "output_type": "stream",
          "name": "stdout",
          "text": "Model structure:  NeuralNetwork(\n  (flatten): Flatten(start_dim=1, end_dim=-1)\n  (linear_relu_stack): Sequential(\n    (0): Linear(in_features=784, out_features=512, bias=True)\n    (1): ReLU()\n    (2): Linear(in_features=512, out_features=512, bias=True)\n    (3): ReLU()\n    (4): Linear(in_features=512, out_features=10, bias=True)\n    (5): ReLU()\n  )\n) \n\n\nLayer: linear_relu_stack.0.weight | Size: torch.Size([512, 784]) | Values : tensor([[-0.0312, -0.0038,  0.0202,  ...,  0.0180,  0.0017,  0.0028],\n        [ 0.0056, -0.0144, -0.0152,  ...,  0.0136, -0.0332, -0.0143]],\n       grad_fn=<SliceBackward0>) \n\nLayer: linear_relu_stack.0.bias | Size: torch.Size([512]) | Values : tensor([ 0.0273, -0.0080], grad_fn=<SliceBackward0>) \n\nLayer: linear_relu_stack.2.weight | Size: torch.Size([512, 512]) | Values : tensor([[-0.0177,  0.0099,  0.0077,  ..., -0.0285,  0.0238,  0.0125],\n        [ 0.0243,  0.0077,  0.0410,  ...,  0.0251, -0.0183,  0.0324]],\n       grad_fn=<SliceBackward0>) \n\nLayer: linear_relu_stack.2.bias | Size: torch.Size([512]) | Values : tensor([0.0023, 0.0320], grad_fn=<SliceBackward0>) \n\nLayer: linear_relu_stack.4.weight | Size: torch.Size([10, 512]) | Values : tensor([[-0.0087,  0.0062,  0.0371,  ...,  0.0383,  0.0087, -0.0398],\n        [-0.0269, -0.0105,  0.0338,  ...,  0.0387,  0.0360, -0.0414]],\n       grad_fn=<SliceBackward0>) \n\nLayer: linear_relu_stack.4.bias | Size: torch.Size([10]) | Values : tensor([-0.0166, -0.0412], grad_fn=<SliceBackward0>) \n\n"
        }
      ],
      "execution_count": 26,
      "metadata": {
        "scrolled": true
      }
    }
  ],
  "metadata": {
    "kernelspec": {
      "name": "conda-env-py38_default-py",
      "language": "python",
      "display_name": "py38_default"
    },
    "language_info": {
      "name": "python",
      "version": "3.8.13",
      "mimetype": "text/x-python",
      "codemirror_mode": {
        "name": "ipython",
        "version": 3
      },
      "pygments_lexer": "ipython3",
      "nbconvert_exporter": "python",
      "file_extension": ".py"
    },
    "kernel_info": {
      "name": "conda-env-py38_default-py"
    },
    "nteract": {
      "version": "nteract-front-end@1.0.0"
    }
  },
  "nbformat": 4,
  "nbformat_minor": 1
}